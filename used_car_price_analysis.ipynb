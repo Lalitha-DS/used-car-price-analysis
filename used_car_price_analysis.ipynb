{
  "nbformat": 4,
  "nbformat_minor": 0,
  "metadata": {
    "colab": {
      "provenance": [],
      "authorship_tag": "ABX9TyP5A9BGpal7trV7fTdShJG9",
      "include_colab_link": true
    },
    "kernelspec": {
      "name": "python3",
      "display_name": "Python 3"
    },
    "language_info": {
      "name": "python"
    }
  },
  "cells": [
    {
      "cell_type": "markdown",
      "metadata": {
        "id": "view-in-github",
        "colab_type": "text"
      },
      "source": [
        "<a href=\"https://colab.research.google.com/github/Lalitha-DS/used-car-price-analysis/blob/main/used_car_price_analysis.ipynb\" target=\"_parent\"><img src=\"https://colab.research.google.com/assets/colab-badge.svg\" alt=\"Open In Colab\"/></a>"
      ]
    },
    {
      "cell_type": "markdown",
      "source": [
        "**a) Missing Values: Detect and Handle**\n",
        "\n",
        "\n"
      ],
      "metadata": {
        "id": "XFpWJ9jRY1Dn"
      }
    },
    {
      "cell_type": "code",
      "execution_count": 1,
      "metadata": {
        "colab": {
          "base_uri": "https://localhost:8080/"
        },
        "id": "8ijlaCIC-dE-",
        "outputId": "b14e5fac-7f6a-4ebd-ed32-0e47ce125b0b"
      },
      "outputs": [
        {
          "output_type": "stream",
          "name": "stdout",
          "text": [
            "Missing values:\n",
            " Unnamed: 0              0\n",
            "Name                    0\n",
            "Location                0\n",
            "Year                    0\n",
            "Kilometers_Driven       0\n",
            "Fuel_Type               0\n",
            "Transmission            0\n",
            "Owner_Type              0\n",
            "Mileage                 2\n",
            "Engine                 36\n",
            "Power                  36\n",
            "Seats                  38\n",
            "New_Price            5032\n",
            "Price                   0\n",
            "dtype: int64\n"
          ]
        }
      ],
      "source": [
        "import pandas as pd\n",
        "\n",
        "df = pd.read_csv('train.csv')\n",
        "\n",
        "# Check missing values\n",
        "missing_values = df.isnull().sum()\n",
        "print(\"Missing values:\\n\", missing_values)\n"
      ]
    },
    {
      "cell_type": "code",
      "source": [
        "def clean_mileage(val):\n",
        "    if pd.isnull(val):\n",
        "        return None\n",
        "    val = str(val).replace('kmpl', '').replace('km/kg', '').strip()\n",
        "    try:\n",
        "        return float(val)\n",
        "    except:\n",
        "        return None\n",
        "\n",
        "df['Mileage'] = df['Mileage'].apply(clean_mileage)\n",
        "\n",
        "# Impute numerical columns with median\n",
        "df['Mileage'] = df['Mileage'].fillna(df['Mileage'].median())\n",
        "\n",
        "def clean_engine(val):\n",
        "    if pd.isnull(val):\n",
        "        return None\n",
        "    val = str(val).replace('CC', '').strip()\n",
        "    try:\n",
        "        return float(val)\n",
        "    except:\n",
        "        return None\n",
        "\n",
        "df['Engine'] = df['Engine'].apply(clean_engine)\n",
        "\n",
        "df['Engine'] = df['Engine'].fillna(df['Engine'].median())\n",
        "\n",
        "def clean_power(val):\n",
        "    if pd.isnull(val):\n",
        "        return None\n",
        "    val = str(val).replace('bhp', '').strip()\n",
        "    try:\n",
        "        return float(val)\n",
        "    except:\n",
        "        return None\n",
        "\n",
        "df['Power'] = df['Power'].apply(clean_power)\n",
        "df['Power'] = df['Power'].fillna(df['Power'].median())\n",
        "\n",
        "\n",
        "\n",
        "# Drop rows where target 'Price' is missing\n",
        "df = df.dropna(subset=['Price'])\n",
        "\n",
        "# Drop rows where 'Seats' is missing (if very few)\n",
        "df['Seats'] = df['Seats'].fillna(df['Seats'].mode()[0])  # mode = most common seat number\n",
        "\n",
        "\n"
      ],
      "metadata": {
        "id": "GyMVqEQe_A1Z"
      },
      "execution_count": 2,
      "outputs": []
    },
    {
      "cell_type": "markdown",
      "source": [
        "\n",
        "**Justification** :\n",
        "\n",
        "Numerical columns are imputed with the median in order to reduce the influence that potential outliers may have on results. Target values and key features like Seats are either imputed or discarded depending on their importance and availability.\n"
      ],
      "metadata": {
        "id": "KNWvpepQY89u"
      }
    },
    {
      "cell_type": "markdown",
      "source": [
        "**b) Remove Units (Mileage, Engine, Power, New_Price)**\n"
      ],
      "metadata": {
        "id": "0Ho-jWADZs47"
      }
    },
    {
      "cell_type": "code",
      "source": [
        "def extract_numeric(value, unit):\n",
        "    if pd.isnull(value):\n",
        "        return None\n",
        "    return float(str(value).replace(unit, '').strip())\n",
        "\n",
        "# Clean columns\n",
        "df['Mileage'] = df['Mileage'].apply(lambda x: extract_numeric(x, 'kmpl') if 'kmpl' in str(x) else extract_numeric(x, 'km/kg'))\n",
        "df['Engine'] = df['Engine'].apply(lambda x: extract_numeric(x, 'CC'))\n",
        "df['Power'] = df['Power'].apply(lambda x: extract_numeric(x, 'bhp'))\n",
        "\n",
        "# Clean New_Price if available\n",
        "if 'New_Price' in df.columns:\n",
        "    df['New_Price'] = df['New_Price'].str.replace(' Lakh', '')\n",
        "    df['New_Price'] = pd.to_numeric(df['New_Price'], errors='coerce')\n"
      ],
      "metadata": {
        "id": "TS4t9lvy_4H9"
      },
      "execution_count": 3,
      "outputs": []
    },
    {
      "cell_type": "markdown",
      "source": [
        "**c) One-Hot Encode 'Fuel_Type' and 'Transmission'**"
      ],
      "metadata": {
        "id": "cLgrKTu9bbfk"
      }
    },
    {
      "cell_type": "code",
      "source": [
        "df = pd.get_dummies(df, columns=['Fuel_Type', 'Transmission'], drop_first=True)\n",
        "\n"
      ],
      "metadata": {
        "id": "WYI92QbO_5kY"
      },
      "execution_count": 4,
      "outputs": []
    },
    {
      "cell_type": "markdown",
      "source": [
        "**d) Add a New Feature: Car Age**"
      ],
      "metadata": {
        "id": "MjoczASHbisS"
      }
    },
    {
      "cell_type": "code",
      "source": [
        "from datetime import datetime\n",
        "current_year = datetime.now().year\n",
        "\n",
        "df['Car_Age'] = current_year - df['Year']\n"
      ],
      "metadata": {
        "id": "72sFoi18_9Jr"
      },
      "execution_count": 5,
      "outputs": []
    },
    {
      "cell_type": "markdown",
      "source": [
        "**e) Perform Select, Filter, Rename, Mutate, Arrange, Groupby + Summarize**"
      ],
      "metadata": {
        "id": "xYU53UbqburB"
      }
    },
    {
      "cell_type": "code",
      "source": [
        "# Select relevant columns\n",
        "selected_df = df[['Name', 'Location', 'Price', 'Mileage', 'Car_Age']]\n",
        "\n",
        "# Filter: Cars less than 5 years old\n",
        "filtered_df = df[df['Car_Age'] < 5]\n",
        "\n",
        "# Rename column\n",
        "df = df.rename(columns={'Kilometers_Driven': 'Odometer_km'})\n",
        "\n",
        "# Mutate: Price per year\n",
        "df['Price_per_Year'] = df['Price'] / df['Car_Age'].replace(0, 1)\n",
        "\n",
        "# Arrange: Sort by Price descending\n",
        "sorted_df = df.sort_values(by='Price', ascending=False)\n",
        "\n",
        "# Groupby + Summarize\n",
        "group_summary = df.groupby('Location')['Price'].agg(['mean', 'max', 'count']).reset_index()\n"
      ],
      "metadata": {
        "id": "NbbRDClt__2u"
      },
      "execution_count": 6,
      "outputs": []
    },
    {
      "cell_type": "code",
      "source": [
        "df.to_csv(\"cleaned_used_cars.csv\", index=False)\n"
      ],
      "metadata": {
        "id": "xNSoQJwzAEmk"
      },
      "execution_count": 7,
      "outputs": []
    }
  ]
}